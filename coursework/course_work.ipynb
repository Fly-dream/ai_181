{
  "nbformat": 4,
  "nbformat_minor": 0,
  "metadata": {
    "colab": {
      "name": "course_work.ipynb",
      "version": "0.3.2",
      "provenance": [],
      "collapsed_sections": []
    },
    "kernelspec": {
      "name": "python3",
      "display_name": "Python 3"
    }
  },
  "cells": [
    {
      "cell_type": "code",
      "metadata": {
        "id": "aQnFXdEqWgGI",
        "colab_type": "code",
        "colab": {}
      },
      "source": [
        "import numpy as np\n",
        "import pandas as pd\n",
        "from matplotlib import pyplot as plt\n",
        "from scipy import stats\n",
        "from sklearn.linear_model import LinearRegression"
      ],
      "execution_count": 0,
      "outputs": []
    },
    {
      "cell_type": "markdown",
      "metadata": {
        "id": "Nld5Vs_Op0PE",
        "colab_type": "text"
      },
      "source": [
        "В курсовой работе я решил построить линейную регрессию на основании двухгодичной истории цен на Биткоин, нефть марки Брент, Золото и индекса S&P 500. Причиной выбора данных послужило то, что Золото является одним из основных резервов, и в период нестабильности в экономике его стоимость увеличивается, в то же время S&P 500 является хорошим показателем состояния рынка акци в США (поскольку в индекс входит 500 самых крупных торгуемых на бирже компаний). Данные взяты с сайта Финам, в качестве цены используется цена закрытия, временные рамки 12.06.2017 - 12.06.2019"
      ]
    },
    {
      "cell_type": "code",
      "metadata": {
        "id": "gVTEfUdKLsiI",
        "colab_type": "code",
        "colab": {}
      },
      "source": [
        "btc = pd.read_csv('btc_usd.csv', encoding='cp1251').drop(['<TICKER>', '<PER>', '<TIME>'], axis = 1)\n",
        "brent = pd.read_csv('brent_rate.csv', encoding='cp1251').drop(['<TICKER>', '<PER>', '<TIME>'], axis = 1)\n",
        "gold = pd.read_csv('gold_rate.csv', encoding='cp1251').drop(['<TICKER>', '<PER>', '<TIME>'], axis = 1)\n",
        "snp = pd.read_csv('snp500_rate.csv', encoding='cp1251').drop(['<TICKER>', '<PER>', '<TIME>'], axis = 1)"
      ],
      "execution_count": 0,
      "outputs": []
    },
    {
      "cell_type": "markdown",
      "metadata": {
        "id": "lAz-6vJ8rsZS",
        "colab_type": "text"
      },
      "source": [
        "Данные требуют нормализации, поскольку они из разных бирж и не совпадают по количеству торговых дней. Используется Inner join для каждой из пар"
      ]
    },
    {
      "cell_type": "code",
      "metadata": {
        "id": "cVjZ6KrVetHm",
        "colab_type": "code",
        "colab": {}
      },
      "source": [
        "btc_snp = btc.merge(snp, left_on = '<DATE>', right_on = '<DATE>', suffixes=('_btc', '_snp'))\n",
        "btc_gold = btc.merge(gold, left_on = '<DATE>', right_on = '<DATE>', suffixes=('_btc', '_gold'))\n",
        "btc_brent = btc.merge(brent, left_on = '<DATE>', right_on = '<DATE>', suffixes=('_btc', '_brent'))"
      ],
      "execution_count": 0,
      "outputs": []
    },
    {
      "cell_type": "markdown",
      "metadata": {
        "id": "VnxsaEH9sC1T",
        "colab_type": "text"
      },
      "source": [
        "Записываю нормализованные данные для каждого источника в отдельный датафрейм для большей наглядности"
      ]
    },
    {
      "cell_type": "code",
      "metadata": {
        "id": "dUzK6jlWell2",
        "colab_type": "code",
        "colab": {}
      },
      "source": [
        "btc-snp_normalized = pd.concat([btc_snp['<DATE>'], btc_snp['<CLOSE>_btc']], axis=1, keys=['date', 'btc_rate'])\n",
        "snp_normalized = pd.concat([btc_snp['<DATE>'], btc_snp['<CLOSE>_snp']], axis=1, keys=['date', 'snp_rate'])\n"
      ],
      "execution_count": 0,
      "outputs": []
    },
    {
      "cell_type": "code",
      "metadata": {
        "id": "ZGh30e69SaHU",
        "colab_type": "code",
        "colab": {}
      },
      "source": [
        "reg = LinearRegression().fit(btc-snp_normalized, snp_normalized)\n"
      ],
      "execution_count": 0,
      "outputs": []
    },
    {
      "cell_type": "code",
      "metadata": {
        "id": "cmpZkKhGnBw4",
        "colab_type": "code",
        "colab": {
          "base_uri": "https://localhost:8080/",
          "height": 89
        },
        "outputId": "181ac0d5-dd60-4450-ab28-b3a2e354e6ec"
      },
      "source": [
        "reg.score(btc-snp_normalized, snp_normalized)"
      ],
      "execution_count": 32,
      "outputs": [
        {
          "output_type": "stream",
          "text": [
            "/usr/local/lib/python3.6/dist-packages/sklearn/base.py:420: FutureWarning: The default value of multioutput (not exposed in score method) will change from 'variance_weighted' to 'uniform_average' in 0.23 to keep consistent with 'metrics.r2_score'. To specify the default value manually and avoid the warning, please either call 'metrics.r2_score' directly or make a custom scorer with 'metrics.make_scorer' (the built-in scorer 'r2' uses multioutput='uniform_average').\n",
            "  \"multioutput='uniform_average').\", FutureWarning)\n"
          ],
          "name": "stderr"
        },
        {
          "output_type": "execute_result",
          "data": {
            "text/plain": [
              "0.9998245442678834"
            ]
          },
          "metadata": {
            "tags": []
          },
          "execution_count": 32
        }
      ]
    },
    {
      "cell_type": "code",
      "metadata": {
        "id": "lmdETqM6sevO",
        "colab_type": "code",
        "colab": {}
      },
      "source": [
        "btc-gold_normalized = pd.concat([btc_gold['<DATE>'], btc_gold['<CLOSE>_btc']], axis=1, keys=['date', 'btc_rate'])\n",
        "gold_normalized = pd.concat([btc_gold['<DATE>'], btc_gold['<CLOSE>_gold']], axis=1, keys=['date', 'gold_rate'])\n"
      ],
      "execution_count": 0,
      "outputs": []
    }
  ]
}